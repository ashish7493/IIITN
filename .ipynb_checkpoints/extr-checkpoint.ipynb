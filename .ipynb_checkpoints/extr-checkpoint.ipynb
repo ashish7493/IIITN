{
 "cells": [
  {
   "cell_type": "markdown",
   "id": "aca38bb5-fb2e-421a-915d-4c57a3faf8a5",
   "metadata": {},
   "source": [
    "\n",
    "## Analysis of Exhibitor.csv \n"
   ]
  },
  {
   "cell_type": "markdown",
   "id": "267ae803-1fee-460e-8cfe-05855c3f140c",
   "metadata": {},
   "source": [
    "import pandas as pd\n",
    "import numpy as np\n",
    "import matplotlib.pyplot as plt\n",
    "\n",
    "extr = pd.read_csv('exhibitors (1).csv')\n",
    "\n",
    "extr.head()"
   ]
  },
  {
   "cell_type": "code",
   "execution_count": null,
   "id": "4783aa32-1103-49d4-8544-81ef768d069c",
   "metadata": {},
   "outputs": [],
   "source": [
    "extr.shape"
   ]
  },
  {
   "cell_type": "code",
   "execution_count": 2,
   "id": "1a0fbe3a-a751-44fd-8f5d-7d184dc15a0c",
   "metadata": {},
   "outputs": [
    {
     "name": "stdout",
     "output_type": "stream",
     "text": [
      "<class 'pandas.core.frame.DataFrame'>\n",
      "RangeIndex: 467 entries, 0 to 466\n",
      "Data columns (total 77 columns):\n",
      " #   Column                          Non-Null Count  Dtype  \n",
      "---  ------                          --------------  -----  \n",
      " 0   id                              467 non-null    int64  \n",
      " 1   company_repName                 467 non-null    object \n",
      " 2   company_name                    467 non-null    object \n",
      " 3   blood_group                     467 non-null    object \n",
      " 4   mobile_no                       467 non-null    object \n",
      " 5   email                           467 non-null    object \n",
      " 6   designation                     467 non-null    object \n",
      " 7   country                         467 non-null    object \n",
      " 8   password                        467 non-null    object \n",
      " 9   exhibitor                       467 non-null    object \n",
      " 10  role                            467 non-null    object \n",
      " 11  pro_category                    467 non-null    object \n",
      " 12  createdAt                       467 non-null    object \n",
      " 13  updatedAt                       467 non-null    object \n",
      " 14  company_profile                 207 non-null    object \n",
      " 15  company_logo                    171 non-null    object \n",
      " 16  is_confirmed                    467 non-null    int64  \n",
      " 17  profile_completion              467 non-null    int64  \n",
      " 18  city                            464 non-null    object \n",
      " 19  state                           464 non-null    object \n",
      " 20  address_line1                   206 non-null    object \n",
      " 21  address_line2                   156 non-null    object \n",
      " 22  address_line3                   88 non-null     object \n",
      " 23  fascia                          204 non-null    object \n",
      " 24  website                         205 non-null    object \n",
      " 25  post_code                       206 non-null    object \n",
      " 26  gst                             205 non-null    object \n",
      " 27  host_qty                        2 non-null      float64\n",
      " 28  hostess_qty                     2 non-null      float64\n",
      " 29  single_phase_connection         191 non-null    float64\n",
      " 30  three_phase_connection          71 non-null     float64\n",
      " 31  indemnity_undertaking           467 non-null    int64  \n",
      " 32  fever                           467 non-null    int64  \n",
      " 33  cough                           467 non-null    int64  \n",
      " 34  breathlessness                  467 non-null    int64  \n",
      " 35  sore_throat_running_nose        467 non-null    int64  \n",
      " 36  body_ache                       467 non-null    int64  \n",
      " 37  other_symptom                   467 non-null    object \n",
      " 38  health_undertaking_accepted     467 non-null    int64  \n",
      " 39  exhibitor_deliverables_correct  467 non-null    int64  \n",
      " 40  vaccine_certificate             2 non-null      object \n",
      " 41  stall_design                    26 non-null     object \n",
      " 42  stall_design_correct            467 non-null    int64  \n",
      " 43  alternative_email               135 non-null    object \n",
      " 44  title                           205 non-null    object \n",
      " 45  first_name                      205 non-null    object \n",
      " 46  last_name                       205 non-null    object \n",
      " 47  oem_user_profile                467 non-null    int64  \n",
      " 48  oem_fascia                      467 non-null    int64  \n",
      " 49  oem_exhibitor_badges            467 non-null    int64  \n",
      " 50  oem_power_requirement           467 non-null    int64  \n",
      " 51  oem_furniture_requirement       467 non-null    int64  \n",
      " 52  oem_host_hostess                467 non-null    int64  \n",
      " 53  oem_bare_space_stall_design     467 non-null    int64  \n",
      " 54  oem_booth_contractor            467 non-null    int64  \n",
      " 55  oem_visa                        467 non-null    int64  \n",
      " 56  oem_indemnity_undertaking       467 non-null    int64  \n",
      " 57  oem_health_undertaking          467 non-null    int64  \n",
      " 58  oem_participation               467 non-null    int64  \n",
      " 59  oem_catalog_entry               467 non-null    int64  \n",
      " 60  company_repProfile              4 non-null      object \n",
      " 61  option_a                        467 non-null    int64  \n",
      " 62  option_b                        467 non-null    int64  \n",
      " 63  host                            197 non-null    object \n",
      " 64  currentForm                     467 non-null    object \n",
      " 65  currentFormIndex                467 non-null    int64  \n",
      " 66  booth_contractor_applicable     467 non-null    int64  \n",
      " 67  visa_applicable                 467 non-null    int64  \n",
      " 68  firebaseToken                   26 non-null     object \n",
      " 69  socket_id                       1 non-null      object \n",
      " 70  about_me                        0 non-null      float64\n",
      " 71  catalogue_mobile_no             197 non-null    object \n",
      " 72  catalogue_email                 197 non-null    object \n",
      " 73  contact_person                  185 non-null    object \n",
      " 74  contact_person_designation      185 non-null    object \n",
      " 75  furniture_applicable            467 non-null    int64  \n",
      " 76  account_deletion_request        467 non-null    int64  \n",
      "dtypes: float64(5), int64(32), object(40)\n",
      "memory usage: 281.1+ KB\n"
     ]
    }
   ],
   "source": [
    "extr.info()"
   ]
  },
  {
   "cell_type": "markdown",
   "id": "c4b3e337-23ae-40c7-8e02-55ba814d4a15",
   "metadata": {},
   "source": [
    "## Extracting useful column from the dataset"
   ]
  },
  {
   "cell_type": "code",
   "execution_count": null,
   "id": "1fe21fea-da28-4b6e-b4b1-ca56fde74fd2",
   "metadata": {},
   "outputs": [],
   "source": [
    "\n",
    "\n",
    "features = ['company_name', 'designation','pro_category']\n",
    "\n",
    "extr = extr[features]\n",
    "\n",
    "extr.head()"
   ]
  },
  {
   "cell_type": "code",
   "execution_count": 9,
   "id": "44f42ee8-a9cc-44e0-a641-f86a58d89de3",
   "metadata": {},
   "outputs": [
    {
     "data": {
      "text/plain": [
       "company_name\n",
       "STG HEATING PVT LTD                  8\n",
       "Alfa Boilers Pvt. Ltd.               7\n",
       "Thermax Limited                      5\n",
       "Alfa Boilers Pvt Ltd                 3\n",
       "ALFA BOILERS PVT. LTD                3\n",
       "                                    ..\n",
       "CLASSIC COMBUSTIONS INDIA PVT LTD    1\n",
       "Spline                               1\n",
       "RASHMI ELECTRICALS                   1\n",
       "SUDE ENGINEERING CORPORATION         1\n",
       "supertech fabrics pvt ltd            1\n",
       "Name: count, Length: 426, dtype: int64"
      ]
     },
     "execution_count": 9,
     "metadata": {},
     "output_type": "execute_result"
    }
   ],
   "source": [
    "extr['company_name'].value_counts()"
   ]
  },
  {
   "cell_type": "code",
   "execution_count": 10,
   "id": "16b57658",
   "metadata": {},
   "outputs": [
    {
     "data": {
      "text/plain": [
       "designation\n",
       "Director                       30\n",
       "CEO                            11\n",
       "Manager                        11\n",
       "Partner                         9\n",
       "Marketing Manager               9\n",
       "                               ..\n",
       "Managing director               1\n",
       "DESIGN MANAGER                  1\n",
       "ASSISTANT MANAGER MARKETING     1\n",
       "Manager - Marketing             1\n",
       "business head                   1\n",
       "Name: count, Length: 307, dtype: int64"
      ]
     },
     "execution_count": 10,
     "metadata": {},
     "output_type": "execute_result"
    }
   ],
   "source": [
    "extr['designation'].value_counts()"
   ]
  },
  {
   "cell_type": "code",
   "execution_count": 8,
   "id": "f51873ba",
   "metadata": {},
   "outputs": [
    {
     "data": {
      "text/plain": [
       "pro_category\n",
       "Ancillaries                                                  101\n",
       "Technology&serviceprovider                                    93\n",
       "Boilermanufacturer                                            92\n",
       "Boilercomponentmanufacturer                                   80\n",
       "Dealers/Traders/Distributors                                  75\n",
       "WTP, ETP & other pollution control equipment manufacturer     14\n",
       "Turbinemanufacturer                                            8\n",
       "Professionals in NDE, energy audit, RLA and R&M                4\n",
       "Name: count, dtype: int64"
      ]
     },
     "execution_count": 8,
     "metadata": {},
     "output_type": "execute_result"
    }
   ],
   "source": [
    "extr['pro_category'].value_counts()"
   ]
  }
 ],
 "metadata": {
  "kernelspec": {
   "display_name": "Python 3 (ipykernel)",
   "language": "python",
   "name": "python3"
  },
  "language_info": {
   "codemirror_mode": {
    "name": "ipython",
    "version": 3
   },
   "file_extension": ".py",
   "mimetype": "text/x-python",
   "name": "python",
   "nbconvert_exporter": "python",
   "pygments_lexer": "ipython3",
   "version": "3.12.1"
  }
 },
 "nbformat": 4,
 "nbformat_minor": 5
}
