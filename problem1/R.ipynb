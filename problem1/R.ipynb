{
 "cells": [
  {
   "cell_type": "code",
   "execution_count": 11,
   "id": "2690754a-4b6a-4d9c-acdb-d595896efa0e",
   "metadata": {},
   "outputs": [],
   "source": [
    "# ! pip install shap\n",
    "import shap\n",
    "import pandas as pd\n",
    "import numpy as np\n",
    "\n",
    "estr = pd.read_csv('stall2.csv')\n",
    "vstr = pd.read_csv('visiter2.csv')"
   ]
  },
  {
   "cell_type": "code",
   "execution_count": 12,
   "id": "3b5ed40c-d74a-4d71-9064-51b801b1abfd",
   "metadata": {},
   "outputs": [
    {
     "data": {
      "text/plain": [
       "Index(['visitor_profession', 'visitor_role', 'visitor_preferrance'], dtype='object')"
      ]
     },
     "execution_count": 12,
     "metadata": {},
     "output_type": "execute_result"
    }
   ],
   "source": [
    "vstr.select_dtypes('object').columns"
   ]
  },
  {
   "cell_type": "code",
   "execution_count": 13,
   "id": "10a85ca8-81b9-40c3-b241-7e7e1559587a",
   "metadata": {},
   "outputs": [
    {
     "data": {
      "text/html": [
       "<div>\n",
       "<style scoped>\n",
       "    .dataframe tbody tr th:only-of-type {\n",
       "        vertical-align: middle;\n",
       "    }\n",
       "\n",
       "    .dataframe tbody tr th {\n",
       "        vertical-align: top;\n",
       "    }\n",
       "\n",
       "    .dataframe thead th {\n",
       "        text-align: right;\n",
       "    }\n",
       "</style>\n",
       "<table border=\"1\" class=\"dataframe\">\n",
       "  <thead>\n",
       "    <tr style=\"text-align: right;\">\n",
       "      <th></th>\n",
       "      <th>visitor_profession</th>\n",
       "      <th>visitor_role</th>\n",
       "      <th>visitor_preferrance</th>\n",
       "    </tr>\n",
       "  </thead>\n",
       "  <tbody>\n",
       "    <tr>\n",
       "      <th>0</th>\n",
       "      <td>Engineer</td>\n",
       "      <td>Businessman</td>\n",
       "      <td>Cutting Machine</td>\n",
       "    </tr>\n",
       "    <tr>\n",
       "      <th>1</th>\n",
       "      <td>Student/Teacher</td>\n",
       "      <td>Businessman</td>\n",
       "      <td>Cutting Machine</td>\n",
       "    </tr>\n",
       "    <tr>\n",
       "      <th>2</th>\n",
       "      <td>Engineer</td>\n",
       "      <td>Businessman</td>\n",
       "      <td>Sugar Machine</td>\n",
       "    </tr>\n",
       "    <tr>\n",
       "      <th>3</th>\n",
       "      <td>Management</td>\n",
       "      <td>Job</td>\n",
       "      <td>Sugar Machine</td>\n",
       "    </tr>\n",
       "    <tr>\n",
       "      <th>4</th>\n",
       "      <td>Student/Teacher</td>\n",
       "      <td>Job</td>\n",
       "      <td>Sugar Machine</td>\n",
       "    </tr>\n",
       "  </tbody>\n",
       "</table>\n",
       "</div>"
      ],
      "text/plain": [
       "  visitor_profession visitor_role visitor_preferrance\n",
       "0           Engineer  Businessman     Cutting Machine\n",
       "1    Student/Teacher  Businessman     Cutting Machine\n",
       "2           Engineer  Businessman       Sugar Machine\n",
       "3         Management          Job       Sugar Machine\n",
       "4    Student/Teacher          Job       Sugar Machine"
      ]
     },
     "execution_count": 13,
     "metadata": {},
     "output_type": "execute_result"
    }
   ],
   "source": [
    "vstr.head()"
   ]
  },
  {
   "cell_type": "code",
   "execution_count": 14,
   "id": "f22b38f5-18ed-40ad-b467-7e0a450f9b6f",
   "metadata": {},
   "outputs": [
    {
     "data": {
      "text/html": [
       "<div>\n",
       "<style scoped>\n",
       "    .dataframe tbody tr th:only-of-type {\n",
       "        vertical-align: middle;\n",
       "    }\n",
       "\n",
       "    .dataframe tbody tr th {\n",
       "        vertical-align: top;\n",
       "    }\n",
       "\n",
       "    .dataframe thead th {\n",
       "        text-align: right;\n",
       "    }\n",
       "</style>\n",
       "<table border=\"1\" class=\"dataframe\">\n",
       "  <thead>\n",
       "    <tr style=\"text-align: right;\">\n",
       "      <th></th>\n",
       "      <th>index</th>\n",
       "      <th>cardinality</th>\n",
       "    </tr>\n",
       "  </thead>\n",
       "  <tbody>\n",
       "    <tr>\n",
       "      <th>0</th>\n",
       "      <td>visitor_profession</td>\n",
       "      <td>3</td>\n",
       "    </tr>\n",
       "    <tr>\n",
       "      <th>1</th>\n",
       "      <td>visitor_role</td>\n",
       "      <td>2</td>\n",
       "    </tr>\n",
       "    <tr>\n",
       "      <th>2</th>\n",
       "      <td>visitor_preferrance</td>\n",
       "      <td>4</td>\n",
       "    </tr>\n",
       "  </tbody>\n",
       "</table>\n",
       "</div>"
      ],
      "text/plain": [
       "                 index  cardinality\n",
       "0   visitor_profession            3\n",
       "1         visitor_role            2\n",
       "2  visitor_preferrance            4"
      ]
     },
     "execution_count": 14,
     "metadata": {},
     "output_type": "execute_result"
    }
   ],
   "source": [
    "vstr[vstr.select_dtypes('object').columns].nunique().reset_index(name='cardinality')"
   ]
  },
  {
   "cell_type": "code",
   "execution_count": 15,
   "id": "8d3fe38b-dc5c-4f82-bab4-ca75fbc7a3f3",
   "metadata": {},
   "outputs": [
    {
     "data": {
      "text/html": [
       "<div>\n",
       "<style scoped>\n",
       "    .dataframe tbody tr th:only-of-type {\n",
       "        vertical-align: middle;\n",
       "    }\n",
       "\n",
       "    .dataframe tbody tr th {\n",
       "        vertical-align: top;\n",
       "    }\n",
       "\n",
       "    .dataframe thead th {\n",
       "        text-align: right;\n",
       "    }\n",
       "</style>\n",
       "<table border=\"1\" class=\"dataframe\">\n",
       "  <thead>\n",
       "    <tr style=\"text-align: right;\">\n",
       "      <th></th>\n",
       "      <th>visitor_profession</th>\n",
       "      <th>visitor_role</th>\n",
       "      <th>visitor_preferrance</th>\n",
       "    </tr>\n",
       "  </thead>\n",
       "  <tbody>\n",
       "    <tr>\n",
       "      <th>0</th>\n",
       "      <td>Engineer</td>\n",
       "      <td>Businessman</td>\n",
       "      <td>Cutting Machine</td>\n",
       "    </tr>\n",
       "    <tr>\n",
       "      <th>1</th>\n",
       "      <td>Student/Teacher</td>\n",
       "      <td>Businessman</td>\n",
       "      <td>Cutting Machine</td>\n",
       "    </tr>\n",
       "    <tr>\n",
       "      <th>2</th>\n",
       "      <td>Engineer</td>\n",
       "      <td>Businessman</td>\n",
       "      <td>Sugar Machine</td>\n",
       "    </tr>\n",
       "    <tr>\n",
       "      <th>3</th>\n",
       "      <td>Management</td>\n",
       "      <td>Job</td>\n",
       "      <td>Sugar Machine</td>\n",
       "    </tr>\n",
       "    <tr>\n",
       "      <th>4</th>\n",
       "      <td>Student/Teacher</td>\n",
       "      <td>Job</td>\n",
       "      <td>Sugar Machine</td>\n",
       "    </tr>\n",
       "  </tbody>\n",
       "</table>\n",
       "</div>"
      ],
      "text/plain": [
       "  visitor_profession visitor_role visitor_preferrance\n",
       "0           Engineer  Businessman     Cutting Machine\n",
       "1    Student/Teacher  Businessman     Cutting Machine\n",
       "2           Engineer  Businessman       Sugar Machine\n",
       "3         Management          Job       Sugar Machine\n",
       "4    Student/Teacher          Job       Sugar Machine"
      ]
     },
     "execution_count": 15,
     "metadata": {},
     "output_type": "execute_result"
    }
   ],
   "source": [
    "vstr.head()"
   ]
  },
  {
   "cell_type": "code",
   "execution_count": 20,
   "id": "8b3bfd31-cc98-4850-951c-5a6a64bac780",
   "metadata": {},
   "outputs": [],
   "source": [
    "import tensorflow as tf\n",
    "def generate_categorical_feature_tf(categorical_features,num_features,data):\n",
    "    models= []\n",
    "    inputs = []\n",
    "    for cat in categorical_features:\n",
    "        vocab_size = data[cat].nunique()\n",
    "        inpt = tf.keras.layers.Input(shape=(1,),name='input_'+'_'.join(cat.split(' ')))\n",
    "        inputs.append(inpt)\n",
    "        embed = tf.keras.layers.Embedding(vocab_size,200,\\\n",
    "                                          trainable=True,embeddings_initializer=tf.initializers.random_normal)(inpt)\n",
    "        embed_rehsaped =tf.keras.layers.Reshape(target_shape=(200,))(embed)\n",
    "        models.append(embed_rehsaped)\n",
    "    num_input = tf.keras.layers.Input(shape=(len(num_features)),\\\n",
    "                                      name='input_number_features')\n",
    "    inputs.append(num_input)\n",
    "    models.append(num_input)\n",
    "    merge_models= tf.keras.layers.concatenate(models)\n",
    "    pre_preds = tf.keras.layers.Dense(1000)(merge_models)\n",
    "    pre_preds = tf.keras.layers.BatchNormalization()(pre_preds)\n",
    "    pre_preds = tf.keras.layers.Dense(1000)(pre_preds)\n",
    "    pre_preds = tf.keras.layers.BatchNormalization()(pre_preds)\n",
    "    pred = tf.keras.layers.Dense(1,activation='sigmoid')(pre_preds)\n",
    "    model_full = tf.keras.models.Model(inputs= inputs,\\\n",
    "                                       outputs =pred)\n",
    "    model_full.compile(loss=tf.keras.losses.binary_crossentropy,\\\n",
    "                       metrics=['accuracy'],\n",
    "                       optimizer='adam')\n",
    "    return model_full\n"
   ]
  },
  {
   "cell_type": "code",
   "execution_count": 21,
   "id": "1ef497c5-5ca1-4b08-bcc9-ae2ab3a5e942",
   "metadata": {},
   "outputs": [],
   "source": [
    "def prepar_data_set(data_df):\n",
    "    categoy_features = data_df.select_dtypes('category').columns\n",
    "    numerique_features = data_df.select_dtypes('number').columns\n",
    "    for col in categoy_features:\n",
    "        encoder = LabelEncoder()\n",
    "        data_df[col] = encoder.fit_transform(data_df[col])\n",
    "    return data_df,categoy_features,numerique_features"
   ]
  },
  {
   "cell_type": "code",
   "execution_count": 22,
   "id": "8952c315-4bd4-474c-b534-9825be8b8ff9",
   "metadata": {},
   "outputs": [],
   "source": [
    "train,cat_features,num_featture = prepar_data_set(vstr)"
   ]
  },
  {
   "cell_type": "code",
   "execution_count": null,
   "id": "ab369013-1cf1-47a6-9d73-0e90c8476e21",
   "metadata": {},
   "outputs": [],
   "source": []
  }
 ],
 "metadata": {
  "kernelspec": {
   "display_name": "Python 3 (ipykernel)",
   "language": "python",
   "name": "python3"
  },
  "language_info": {
   "codemirror_mode": {
    "name": "ipython",
    "version": 3
   },
   "file_extension": ".py",
   "mimetype": "text/x-python",
   "name": "python",
   "nbconvert_exporter": "python",
   "pygments_lexer": "ipython3",
   "version": "3.12.1"
  }
 },
 "nbformat": 4,
 "nbformat_minor": 5
}
