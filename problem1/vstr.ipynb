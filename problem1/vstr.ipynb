{
 "cells": [
  {
   "cell_type": "markdown",
   "id": "2230024b-f89d-4cba-ab33-166ee344b28a",
   "metadata": {},
   "source": [
    "## Analysis of Visiter.csv"
   ]
  },
  {
   "cell_type": "code",
   "execution_count": 1,
   "id": "4c341ba4-8621-41c7-9598-4adbc17287a7",
   "metadata": {},
   "outputs": [
    {
     "data": {
      "text/plain": [
       "0   NaN\n",
       "1   NaN\n",
       "2   NaN\n",
       "3   NaN\n",
       "4   NaN\n",
       "Name: visitor, dtype: float64"
      ]
     },
     "execution_count": 1,
     "metadata": {},
     "output_type": "execute_result"
    }
   ],
   "source": [
    "import pandas as pd\n",
    "import numpy as np\n",
    "\n",
    "vstr = pd.read_csv('visitors.csv')\n",
    "\n",
    "vstr['visitor'].head()"
   ]
  },
  {
   "cell_type": "code",
   "execution_count": 3,
   "id": "4e13fb3d-18b6-467a-a8d7-76901c6d3da5",
   "metadata": {},
   "outputs": [
    {
     "data": {
      "text/plain": [
       "(12165, 28)"
      ]
     },
     "execution_count": 3,
     "metadata": {},
     "output_type": "execute_result"
    }
   ],
   "source": [
    "vstr.shape"
   ]
  },
  {
   "cell_type": "code",
   "execution_count": 4,
   "id": "49f3072c-1213-4ae2-aaa9-09ac7dc57773",
   "metadata": {},
   "outputs": [
    {
     "name": "stdout",
     "output_type": "stream",
     "text": [
      "<class 'pandas.core.frame.DataFrame'>\n",
      "RangeIndex: 12165 entries, 0 to 12164\n",
      "Data columns (total 28 columns):\n",
      " #   Column                    Non-Null Count  Dtype  \n",
      "---  ------                    --------------  -----  \n",
      " 0   id                        12165 non-null  int64  \n",
      " 1   company_repName           12165 non-null  object \n",
      " 2   company_name              12110 non-null  object \n",
      " 3   blood_group               590 non-null    object \n",
      " 4   mobile_no                 12161 non-null  float64\n",
      " 5   email                     12164 non-null  object \n",
      " 6   designation               629 non-null    object \n",
      " 7   country                   11847 non-null  object \n",
      " 8   password                  12165 non-null  object \n",
      " 9   visitor                   0 non-null      float64\n",
      " 10  profession                12165 non-null  object \n",
      " 11  role                      12165 non-null  object \n",
      " 12  createdAt                 12165 non-null  object \n",
      " 13  updatedAt                 12165 non-null  object \n",
      " 14  city                      11853 non-null  object \n",
      " 15  state                     11849 non-null  object \n",
      " 16  vaccine_certificate       376 non-null    object \n",
      " 17  id_certificate            376 non-null    object \n",
      " 18  company_logo              0 non-null      float64\n",
      " 19  alternative_email         0 non-null      float64\n",
      " 20  address_line1             0 non-null      float64\n",
      " 21  address_line2             0 non-null      float64\n",
      " 22  address_line3             0 non-null      float64\n",
      " 23  company_repProfile        29 non-null     object \n",
      " 24  firebaseToken             1964 non-null   object \n",
      " 25  socket_id                 3 non-null      object \n",
      " 26  about_me                  0 non-null      float64\n",
      " 27  account_deletion_request  12165 non-null  int64  \n",
      "dtypes: float64(8), int64(2), object(18)\n",
      "memory usage: 2.6+ MB\n"
     ]
    }
   ],
   "source": [
    "vstr.info()"
   ]
  },
  {
   "cell_type": "code",
   "execution_count": 4,
   "id": "02ad8095-a6c6-4cf1-8459-c4642fcb058a",
   "metadata": {},
   "outputs": [
    {
     "name": "stdout",
     "output_type": "stream",
     "text": [
      "<class 'pandas.core.frame.DataFrame'>\n",
      "RangeIndex: 12165 entries, 0 to 12164\n",
      "Data columns (total 28 columns):\n",
      " #   Column                    Non-Null Count  Dtype  \n",
      "---  ------                    --------------  -----  \n",
      " 0   id                        12165 non-null  int64  \n",
      " 1   company_repName           12165 non-null  object \n",
      " 2   company_name              12110 non-null  object \n",
      " 3   blood_group               590 non-null    object \n",
      " 4   mobile_no                 12161 non-null  float64\n",
      " 5   email                     12164 non-null  object \n",
      " 6   designation               629 non-null    object \n",
      " 7   country                   11847 non-null  object \n",
      " 8   password                  12165 non-null  object \n",
      " 9   visitor                   0 non-null      float64\n",
      " 10  profession                12165 non-null  object \n",
      " 11  role                      12165 non-null  object \n",
      " 12  createdAt                 12165 non-null  object \n",
      " 13  updatedAt                 12165 non-null  object \n",
      " 14  city                      11853 non-null  object \n",
      " 15  state                     11849 non-null  object \n",
      " 16  vaccine_certificate       376 non-null    object \n",
      " 17  id_certificate            376 non-null    object \n",
      " 18  company_logo              0 non-null      float64\n",
      " 19  alternative_email         0 non-null      float64\n",
      " 20  address_line1             0 non-null      float64\n",
      " 21  address_line2             0 non-null      float64\n",
      " 22  address_line3             0 non-null      float64\n",
      " 23  company_repProfile        29 non-null     object \n",
      " 24  firebaseToken             1964 non-null   object \n",
      " 25  socket_id                 3 non-null      object \n",
      " 26  about_me                  0 non-null      float64\n",
      " 27  account_deletion_request  12165 non-null  int64  \n",
      "dtypes: float64(8), int64(2), object(18)\n",
      "memory usage: 2.6+ MB\n"
     ]
    }
   ],
   "source": [
    "vstr.info()"
   ]
  },
  {
   "cell_type": "code",
   "execution_count": 6,
   "id": "2b373951-6be5-4501-ad03-c55ea8797cf5",
   "metadata": {},
   "outputs": [
    {
     "data": {
      "text/plain": [
       "(12165, 28)"
      ]
     },
     "execution_count": 6,
     "metadata": {},
     "output_type": "execute_result"
    }
   ],
   "source": [
    "vstr.shape"
   ]
  },
  {
   "cell_type": "markdown",
   "id": "c30deaaa-645a-4cb6-a383-323e47a88377",
   "metadata": {},
   "source": [
    "## Checking the occurence of a keyword in the company name to identify the company type"
   ]
  },
  {
   "cell_type": "code",
   "execution_count": 34,
   "id": "a010cf6f-34b5-4af9-b4a2-97f913a7798d",
   "metadata": {
    "scrolled": true
   },
   "outputs": [
    {
     "data": {
      "text/plain": [
       "261"
      ]
     },
     "execution_count": 34,
     "metadata": {},
     "output_type": "execute_result"
    }
   ],
   "source": [
    "keyword = 'Boiler'\n",
    "x = vstr['company_name'].dropna()\n",
    "x[(x.str.contains(keyword, case=False))].count()"
   ]
  },
  {
   "cell_type": "code",
   "execution_count": 5,
   "id": "09fedb6f-3ad8-4869-b3c7-3a2a1a884290",
   "metadata": {},
   "outputs": [
    {
     "data": {
      "text/html": [
       "<div>\n",
       "<style scoped>\n",
       "    .dataframe tbody tr th:only-of-type {\n",
       "        vertical-align: middle;\n",
       "    }\n",
       "\n",
       "    .dataframe tbody tr th {\n",
       "        vertical-align: top;\n",
       "    }\n",
       "\n",
       "    .dataframe thead th {\n",
       "        text-align: right;\n",
       "    }\n",
       "</style>\n",
       "<table border=\"1\" class=\"dataframe\">\n",
       "  <thead>\n",
       "    <tr style=\"text-align: right;\">\n",
       "      <th></th>\n",
       "      <th>id</th>\n",
       "      <th>mobile_no</th>\n",
       "      <th>visitor</th>\n",
       "      <th>company_logo</th>\n",
       "      <th>alternative_email</th>\n",
       "      <th>address_line1</th>\n",
       "      <th>address_line2</th>\n",
       "      <th>address_line3</th>\n",
       "      <th>about_me</th>\n",
       "      <th>account_deletion_request</th>\n",
       "    </tr>\n",
       "  </thead>\n",
       "  <tbody>\n",
       "    <tr>\n",
       "      <th>count</th>\n",
       "      <td>12165.000000</td>\n",
       "      <td>1.216100e+04</td>\n",
       "      <td>0.0</td>\n",
       "      <td>0.0</td>\n",
       "      <td>0.0</td>\n",
       "      <td>0.0</td>\n",
       "      <td>0.0</td>\n",
       "      <td>0.0</td>\n",
       "      <td>0.0</td>\n",
       "      <td>12165.000000</td>\n",
       "    </tr>\n",
       "    <tr>\n",
       "      <th>mean</th>\n",
       "      <td>6149.860173</td>\n",
       "      <td>8.778943e+11</td>\n",
       "      <td>NaN</td>\n",
       "      <td>NaN</td>\n",
       "      <td>NaN</td>\n",
       "      <td>NaN</td>\n",
       "      <td>NaN</td>\n",
       "      <td>NaN</td>\n",
       "      <td>NaN</td>\n",
       "      <td>0.001397</td>\n",
       "    </tr>\n",
       "    <tr>\n",
       "      <th>std</th>\n",
       "      <td>3525.854599</td>\n",
       "      <td>3.353145e+11</td>\n",
       "      <td>NaN</td>\n",
       "      <td>NaN</td>\n",
       "      <td>NaN</td>\n",
       "      <td>NaN</td>\n",
       "      <td>NaN</td>\n",
       "      <td>NaN</td>\n",
       "      <td>NaN</td>\n",
       "      <td>0.037358</td>\n",
       "    </tr>\n",
       "    <tr>\n",
       "      <th>min</th>\n",
       "      <td>3.000000</td>\n",
       "      <td>9.761932e+07</td>\n",
       "      <td>NaN</td>\n",
       "      <td>NaN</td>\n",
       "      <td>NaN</td>\n",
       "      <td>NaN</td>\n",
       "      <td>NaN</td>\n",
       "      <td>NaN</td>\n",
       "      <td>NaN</td>\n",
       "      <td>0.000000</td>\n",
       "    </tr>\n",
       "    <tr>\n",
       "      <th>25%</th>\n",
       "      <td>3102.000000</td>\n",
       "      <td>9.181700e+11</td>\n",
       "      <td>NaN</td>\n",
       "      <td>NaN</td>\n",
       "      <td>NaN</td>\n",
       "      <td>NaN</td>\n",
       "      <td>NaN</td>\n",
       "      <td>NaN</td>\n",
       "      <td>NaN</td>\n",
       "      <td>0.000000</td>\n",
       "    </tr>\n",
       "    <tr>\n",
       "      <th>50%</th>\n",
       "      <td>6154.000000</td>\n",
       "      <td>9.191757e+11</td>\n",
       "      <td>NaN</td>\n",
       "      <td>NaN</td>\n",
       "      <td>NaN</td>\n",
       "      <td>NaN</td>\n",
       "      <td>NaN</td>\n",
       "      <td>NaN</td>\n",
       "      <td>NaN</td>\n",
       "      <td>0.000000</td>\n",
       "    </tr>\n",
       "    <tr>\n",
       "      <th>75%</th>\n",
       "      <td>9204.000000</td>\n",
       "      <td>9.198200e+11</td>\n",
       "      <td>NaN</td>\n",
       "      <td>NaN</td>\n",
       "      <td>NaN</td>\n",
       "      <td>NaN</td>\n",
       "      <td>NaN</td>\n",
       "      <td>NaN</td>\n",
       "      <td>NaN</td>\n",
       "      <td>0.000000</td>\n",
       "    </tr>\n",
       "    <tr>\n",
       "      <th>max</th>\n",
       "      <td>12246.000000</td>\n",
       "      <td>9.779851e+12</td>\n",
       "      <td>NaN</td>\n",
       "      <td>NaN</td>\n",
       "      <td>NaN</td>\n",
       "      <td>NaN</td>\n",
       "      <td>NaN</td>\n",
       "      <td>NaN</td>\n",
       "      <td>NaN</td>\n",
       "      <td>1.000000</td>\n",
       "    </tr>\n",
       "  </tbody>\n",
       "</table>\n",
       "</div>"
      ],
      "text/plain": [
       "                 id     mobile_no  visitor  company_logo  alternative_email  \\\n",
       "count  12165.000000  1.216100e+04      0.0           0.0                0.0   \n",
       "mean    6149.860173  8.778943e+11      NaN           NaN                NaN   \n",
       "std     3525.854599  3.353145e+11      NaN           NaN                NaN   \n",
       "min        3.000000  9.761932e+07      NaN           NaN                NaN   \n",
       "25%     3102.000000  9.181700e+11      NaN           NaN                NaN   \n",
       "50%     6154.000000  9.191757e+11      NaN           NaN                NaN   \n",
       "75%     9204.000000  9.198200e+11      NaN           NaN                NaN   \n",
       "max    12246.000000  9.779851e+12      NaN           NaN                NaN   \n",
       "\n",
       "       address_line1  address_line2  address_line3  about_me  \\\n",
       "count            0.0            0.0            0.0       0.0   \n",
       "mean             NaN            NaN            NaN       NaN   \n",
       "std              NaN            NaN            NaN       NaN   \n",
       "min              NaN            NaN            NaN       NaN   \n",
       "25%              NaN            NaN            NaN       NaN   \n",
       "50%              NaN            NaN            NaN       NaN   \n",
       "75%              NaN            NaN            NaN       NaN   \n",
       "max              NaN            NaN            NaN       NaN   \n",
       "\n",
       "       account_deletion_request  \n",
       "count              12165.000000  \n",
       "mean                   0.001397  \n",
       "std                    0.037358  \n",
       "min                    0.000000  \n",
       "25%                    0.000000  \n",
       "50%                    0.000000  \n",
       "75%                    0.000000  \n",
       "max                    1.000000  "
      ]
     },
     "execution_count": 5,
     "metadata": {},
     "output_type": "execute_result"
    }
   ],
   "source": [
    "vstr.describe()"
   ]
  },
  {
   "cell_type": "code",
   "execution_count": 19,
   "id": "b7874e3c-a412-44e7-84d8-94b69144c7b3",
   "metadata": {},
   "outputs": [
    {
     "data": {
      "text/plain": [
       "designation\n",
       "Director                          20\n",
       "Student                           18\n",
       "Manager                           16\n",
       "                                  14\n",
       "Managing Director                 11\n",
       "                                  ..\n",
       "Boiler operator                    1\n",
       "Project Engineer                   1\n",
       "ADVISIOR/CONSULTANT/INVESTOR       1\n",
       "ADVISOR - INVESTOR- CONSULTANT     1\n",
       "Learn                              1\n",
       "Name: count, Length: 414, dtype: int64"
      ]
     },
     "execution_count": 19,
     "metadata": {},
     "output_type": "execute_result"
    }
   ],
   "source": [
    "vstr['designation'].value_counts()"
   ]
  },
  {
   "cell_type": "markdown",
   "id": "c0fc330d-c91d-4d2a-ba8a-1fe4fef19a45",
   "metadata": {},
   "source": [
    "## Extracting usefull attributes from dataset"
   ]
  },
  {
   "cell_type": "code",
   "execution_count": 44,
   "id": "9ba8dfe3-8502-47fa-8c4f-7b613bd3aff8",
   "metadata": {},
   "outputs": [
    {
     "data": {
      "text/html": [
       "<div>\n",
       "<style scoped>\n",
       "    .dataframe tbody tr th:only-of-type {\n",
       "        vertical-align: middle;\n",
       "    }\n",
       "\n",
       "    .dataframe tbody tr th {\n",
       "        vertical-align: top;\n",
       "    }\n",
       "\n",
       "    .dataframe thead th {\n",
       "        text-align: right;\n",
       "    }\n",
       "</style>\n",
       "<table border=\"1\" class=\"dataframe\">\n",
       "  <thead>\n",
       "    <tr style=\"text-align: right;\">\n",
       "      <th></th>\n",
       "      <th>company_name</th>\n",
       "      <th>designation</th>\n",
       "      <th>profession</th>\n",
       "    </tr>\n",
       "  </thead>\n",
       "  <tbody>\n",
       "    <tr>\n",
       "      <th>0</th>\n",
       "      <td>Kriti Trade Impex Pvt Ltd New Delhi</td>\n",
       "      <td>Assistant Manager</td>\n",
       "      <td>Engineer/Operatorlookingfornewtechnology</td>\n",
       "    </tr>\n",
       "    <tr>\n",
       "      <th>1</th>\n",
       "      <td>MTAR Technologies Ltd</td>\n",
       "      <td>Business Development Manager</td>\n",
       "      <td>Purchase personnel from boiler manufacturing c...</td>\n",
       "    </tr>\n",
       "    <tr>\n",
       "      <th>2</th>\n",
       "      <td>Utopian sugars Ltd</td>\n",
       "      <td>Boiler Attendant</td>\n",
       "      <td>Engineer/Operatorlookingfornewtechnology</td>\n",
       "    </tr>\n",
       "    <tr>\n",
       "      <th>3</th>\n",
       "      <td>Berkeley Energy Commercial and Industrial Soli...</td>\n",
       "      <td>Assistant Manager - BD</td>\n",
       "      <td>RenewableEnergyProjectDeveloper</td>\n",
       "    </tr>\n",
       "    <tr>\n",
       "      <th>4</th>\n",
       "      <td>Zeel Engineering and Fabrication</td>\n",
       "      <td>Founder</td>\n",
       "      <td>PurchasePersonnelFromBoilerManufacturingCompany</td>\n",
       "    </tr>\n",
       "  </tbody>\n",
       "</table>\n",
       "</div>"
      ],
      "text/plain": [
       "                                        company_name  \\\n",
       "0                Kriti Trade Impex Pvt Ltd New Delhi   \n",
       "1                             MTAR Technologies Ltd    \n",
       "2                                Utopian sugars Ltd    \n",
       "3  Berkeley Energy Commercial and Industrial Soli...   \n",
       "4                   Zeel Engineering and Fabrication   \n",
       "\n",
       "                     designation  \\\n",
       "0              Assistant Manager   \n",
       "1  Business Development Manager    \n",
       "2              Boiler Attendant    \n",
       "3         Assistant Manager - BD   \n",
       "4                        Founder   \n",
       "\n",
       "                                          profession  \n",
       "0           Engineer/Operatorlookingfornewtechnology  \n",
       "1  Purchase personnel from boiler manufacturing c...  \n",
       "2           Engineer/Operatorlookingfornewtechnology  \n",
       "3                    RenewableEnergyProjectDeveloper  \n",
       "4    PurchasePersonnelFromBoilerManufacturingCompany  "
      ]
     },
     "execution_count": 44,
     "metadata": {},
     "output_type": "execute_result"
    }
   ],
   "source": [
    "features = ['company_name', 'designation', 'profession']\n",
    "\n",
    "vstr = vstr[features]\n",
    "vstr.head()"
   ]
  },
  {
   "cell_type": "code",
   "execution_count": 42,
   "id": "519dcbb0-e88e-4783-8f99-1ae1aa8e7b24",
   "metadata": {},
   "outputs": [
    {
     "data": {
      "text/plain": [
       "profession\n",
       "Engineer / operator looking for new technology                                                3600\n",
       "Academicians / students / engineering colleges                                                2140\n",
       "Purchase personnel from boiler-user industry                                                  2131\n",
       "Design engineer / consultant                                                                  1487\n",
       "Purchase personnel from boiler manufacturing company                                          1261\n",
       "Agencies dealing in instrumentation                                                            926\n",
       "Investor / banker / venture capitalist                                                         232\n",
       "other                                                                                          139\n",
       "Regulatory authority / policy maker / urban planning specialist / utility & energy company     131\n",
       "Engineer/Operatorlookingfornewtechnology                                                        64\n",
       "DesignEngineer/Consultant                                                                       17\n",
       "Academician/student                                                                             14\n",
       "PurchasePersonnelFromBoilerManufacturingCompany                                                 14\n",
       "RenewableEnergyProjectDeveloper                                                                  3\n",
       "R&DInstitution                                                                                   2\n",
       "Investor/banker/ventureCapitalist                                                                2\n",
       "Regulatory Authority/PolicyMaker/UrbanPlanningSpecialist/Utility&EnergyCompany                   1\n",
       "AgenciesDealingInInstrumentation                                                                 1\n",
       "Name: count, dtype: int64"
      ]
     },
     "execution_count": 42,
     "metadata": {},
     "output_type": "execute_result"
    }
   ],
   "source": [
    "vstr['profession'].value_counts()"
   ]
  },
  {
   "cell_type": "code",
   "execution_count": 46,
   "id": "3db7ee87-8b1c-4986-b8fb-593ead6df5cb",
   "metadata": {},
   "outputs": [
    {
     "data": {
      "text/plain": [
       "company_name\n",
       "Thermax Ltd                                           69\n",
       "Thermax Limited                                       60\n",
       "Tolani Maritime Institute                             41\n",
       "Thermax                                               40\n",
       "Thermax Ltd.                                          29\n",
       "                                                      ..\n",
       "Karan Distilleries Pvt Ltd                             1\n",
       "Sharad Institute of technology polytechnic Yadrav      1\n",
       "GIRIRAJ CHAWAL UDYOG                                   1\n",
       "Aryan Boilers Pvt ltd  Baramati                        1\n",
       "Electromac Industries                                  1\n",
       "Name: count, Length: 9499, dtype: int64"
      ]
     },
     "execution_count": 46,
     "metadata": {},
     "output_type": "execute_result"
    }
   ],
   "source": [
    "vstr['company_name'].value_counts()"
   ]
  },
  {
   "cell_type": "code",
   "execution_count": 45,
   "id": "4b1cf97f-69e0-4850-8887-95c2e33704b6",
   "metadata": {},
   "outputs": [
    {
     "data": {
      "text/plain": [
       "designation\n",
       "Director                          20\n",
       "Student                           18\n",
       "Manager                           16\n",
       "                                  14\n",
       "Managing Director                 11\n",
       "                                  ..\n",
       "Boiler operator                    1\n",
       "Project Engineer                   1\n",
       "ADVISIOR/CONSULTANT/INVESTOR       1\n",
       "ADVISOR - INVESTOR- CONSULTANT     1\n",
       "Learn                              1\n",
       "Name: count, Length: 414, dtype: int64"
      ]
     },
     "execution_count": 45,
     "metadata": {},
     "output_type": "execute_result"
    }
   ],
   "source": [
    "vstr['designation'].value_counts()"
   ]
  },
  {
   "cell_type": "code",
   "execution_count": 49,
   "id": "66cf7a64-1dc0-432b-a17a-236b04000234",
   "metadata": {},
   "outputs": [
    {
     "data": {
      "text/html": [
       "<div>\n",
       "<style scoped>\n",
       "    .dataframe tbody tr th:only-of-type {\n",
       "        vertical-align: middle;\n",
       "    }\n",
       "\n",
       "    .dataframe tbody tr th {\n",
       "        vertical-align: top;\n",
       "    }\n",
       "\n",
       "    .dataframe thead th {\n",
       "        text-align: right;\n",
       "    }\n",
       "</style>\n",
       "<table border=\"1\" class=\"dataframe\">\n",
       "  <thead>\n",
       "    <tr style=\"text-align: right;\">\n",
       "      <th></th>\n",
       "      <th>visitor_profession</th>\n",
       "      <th>visitor_role</th>\n",
       "      <th>visitor_preferrance</th>\n",
       "    </tr>\n",
       "  </thead>\n",
       "  <tbody>\n",
       "    <tr>\n",
       "      <th>0</th>\n",
       "      <td>Engineer</td>\n",
       "      <td>Businessman</td>\n",
       "      <td>Cutting Machine</td>\n",
       "    </tr>\n",
       "    <tr>\n",
       "      <th>1</th>\n",
       "      <td>Student/Teacher</td>\n",
       "      <td>Businessman</td>\n",
       "      <td>Cutting Machine</td>\n",
       "    </tr>\n",
       "    <tr>\n",
       "      <th>2</th>\n",
       "      <td>Engineer</td>\n",
       "      <td>Businessman</td>\n",
       "      <td>Sugar Machine</td>\n",
       "    </tr>\n",
       "    <tr>\n",
       "      <th>3</th>\n",
       "      <td>Management</td>\n",
       "      <td>Job</td>\n",
       "      <td>Sugar Machine</td>\n",
       "    </tr>\n",
       "    <tr>\n",
       "      <th>4</th>\n",
       "      <td>Student/Teacher</td>\n",
       "      <td>Job</td>\n",
       "      <td>Sugar Machine</td>\n",
       "    </tr>\n",
       "  </tbody>\n",
       "</table>\n",
       "</div>"
      ],
      "text/plain": [
       "  visitor_profession visitor_role visitor_preferrance\n",
       "0           Engineer  Businessman     Cutting Machine\n",
       "1    Student/Teacher  Businessman     Cutting Machine\n",
       "2           Engineer  Businessman       Sugar Machine\n",
       "3         Management          Job       Sugar Machine\n",
       "4    Student/Teacher          Job       Sugar Machine"
      ]
     },
     "execution_count": 49,
     "metadata": {},
     "output_type": "execute_result"
    }
   ],
   "source": [
    "vstr = pd.read_csv('visiter2.csv')\n",
    "\n",
    "vstr.head()"
   ]
  },
  {
   "cell_type": "code",
   "execution_count": 51,
   "id": "d1734960-964f-4a93-9f23-a05b0d9a02ad",
   "metadata": {},
   "outputs": [
    {
     "data": {
      "text/plain": [
       "(1000, 3)"
      ]
     },
     "execution_count": 51,
     "metadata": {},
     "output_type": "execute_result"
    }
   ],
   "source": [
    "vstr.shape"
   ]
  },
  {
   "cell_type": "code",
   "execution_count": 50,
   "id": "49a34393-4a08-4ed2-a839-6646ce8cd6a8",
   "metadata": {},
   "outputs": [
    {
     "data": {
      "text/plain": [
       "visitor_profession\n",
       "Management         336\n",
       "Engineer           332\n",
       "Student/Teacher    332\n",
       "Name: count, dtype: int64"
      ]
     },
     "execution_count": 50,
     "metadata": {},
     "output_type": "execute_result"
    }
   ],
   "source": [
    "vstr['visitor_profession'].value_counts()"
   ]
  },
  {
   "cell_type": "code",
   "execution_count": 53,
   "id": "4bee06fe-eaad-4d15-a1ea-196b615a67c1",
   "metadata": {},
   "outputs": [
    {
     "data": {
      "text/plain": [
       "visitor_preferrance\n",
       "Boiler             255\n",
       "CNC                254\n",
       "Cutting Machine    248\n",
       "Sugar Machine      243\n",
       "Name: count, dtype: int64"
      ]
     },
     "execution_count": 53,
     "metadata": {},
     "output_type": "execute_result"
    }
   ],
   "source": [
    "vstr['visitor_preferrance'].value_counts()"
   ]
  },
  {
   "cell_type": "code",
   "execution_count": 52,
   "id": "c62e96e5-e2ae-4815-bd5d-027e2d23c97a",
   "metadata": {},
   "outputs": [
    {
     "data": {
      "text/plain": [
       "visitor_role\n",
       "Businessman    500\n",
       "Job            500\n",
       "Name: count, dtype: int64"
      ]
     },
     "execution_count": 52,
     "metadata": {},
     "output_type": "execute_result"
    }
   ],
   "source": [
    "vstr['visitor_role'].value_counts()"
   ]
  },
  {
   "cell_type": "markdown",
   "id": "bf90b160-b5ef-445e-8cb0-44ede50c65ed",
   "metadata": {},
   "source": [
    "## Try to find dependency between the attributes(Failed) "
   ]
  },
  {
   "cell_type": "code",
   "execution_count": 57,
   "id": "34614303-daed-4cfb-8565-b743a8ad8b55",
   "metadata": {},
   "outputs": [
    {
     "ename": "ValueError",
     "evalue": "could not convert string to float: 'Engineer'",
     "output_type": "error",
     "traceback": [
      "\u001b[0;31m---------------------------------------------------------------------------\u001b[0m",
      "\u001b[0;31mValueError\u001b[0m                                Traceback (most recent call last)",
      "Cell \u001b[0;32mIn[57], line 5\u001b[0m\n\u001b[1;32m      2\u001b[0m \u001b[38;5;28;01mimport\u001b[39;00m \u001b[38;5;21;01mseaborn\u001b[39;00m \u001b[38;5;28;01mas\u001b[39;00m \u001b[38;5;21;01msns\u001b[39;00m\n\u001b[1;32m      3\u001b[0m \u001b[38;5;28;01mimport\u001b[39;00m \u001b[38;5;21;01mmatplotlib\u001b[39;00m\u001b[38;5;21;01m.\u001b[39;00m\u001b[38;5;21;01mpyplot\u001b[39;00m \u001b[38;5;28;01mas\u001b[39;00m \u001b[38;5;21;01mplt\u001b[39;00m\n\u001b[0;32m----> 5\u001b[0m heatmap \u001b[38;5;241m=\u001b[39m \u001b[43msns\u001b[49m\u001b[38;5;241;43m.\u001b[39;49m\u001b[43mheatmap\u001b[49m\u001b[43m(\u001b[49m\u001b[43mvstr\u001b[49m\u001b[43m)\u001b[49m  \u001b[38;5;66;03m# You can choose other colormaps like \"RdBu\" or \"coolwarm\"\u001b[39;00m\n\u001b[1;32m      7\u001b[0m \u001b[38;5;66;03m# Customize the heatmap (optional)\u001b[39;00m\n\u001b[1;32m      8\u001b[0m heatmap\u001b[38;5;241m.\u001b[39mset_title(\u001b[38;5;124m\"\u001b[39m\u001b[38;5;124mMy Heatmap\u001b[39m\u001b[38;5;124m\"\u001b[39m)  \u001b[38;5;66;03m# Add a title\u001b[39;00m\n",
      "File \u001b[0;32m~/miniconda3/lib/python3.12/site-packages/seaborn/matrix.py:446\u001b[0m, in \u001b[0;36mheatmap\u001b[0;34m(data, vmin, vmax, cmap, center, robust, annot, fmt, annot_kws, linewidths, linecolor, cbar, cbar_kws, cbar_ax, square, xticklabels, yticklabels, mask, ax, **kwargs)\u001b[0m\n\u001b[1;32m    365\u001b[0m \u001b[38;5;250m\u001b[39m\u001b[38;5;124;03m\"\"\"Plot rectangular data as a color-encoded matrix.\u001b[39;00m\n\u001b[1;32m    366\u001b[0m \n\u001b[1;32m    367\u001b[0m \u001b[38;5;124;03mThis is an Axes-level function and will draw the heatmap into the\u001b[39;00m\n\u001b[0;32m   (...)\u001b[0m\n\u001b[1;32m    443\u001b[0m \n\u001b[1;32m    444\u001b[0m \u001b[38;5;124;03m\"\"\"\u001b[39;00m\n\u001b[1;32m    445\u001b[0m \u001b[38;5;66;03m# Initialize the plotter object\u001b[39;00m\n\u001b[0;32m--> 446\u001b[0m plotter \u001b[38;5;241m=\u001b[39m \u001b[43m_HeatMapper\u001b[49m\u001b[43m(\u001b[49m\u001b[43mdata\u001b[49m\u001b[43m,\u001b[49m\u001b[43m \u001b[49m\u001b[43mvmin\u001b[49m\u001b[43m,\u001b[49m\u001b[43m \u001b[49m\u001b[43mvmax\u001b[49m\u001b[43m,\u001b[49m\u001b[43m \u001b[49m\u001b[43mcmap\u001b[49m\u001b[43m,\u001b[49m\u001b[43m \u001b[49m\u001b[43mcenter\u001b[49m\u001b[43m,\u001b[49m\u001b[43m \u001b[49m\u001b[43mrobust\u001b[49m\u001b[43m,\u001b[49m\u001b[43m \u001b[49m\u001b[43mannot\u001b[49m\u001b[43m,\u001b[49m\u001b[43m \u001b[49m\u001b[43mfmt\u001b[49m\u001b[43m,\u001b[49m\n\u001b[1;32m    447\u001b[0m \u001b[43m                      \u001b[49m\u001b[43mannot_kws\u001b[49m\u001b[43m,\u001b[49m\u001b[43m \u001b[49m\u001b[43mcbar\u001b[49m\u001b[43m,\u001b[49m\u001b[43m \u001b[49m\u001b[43mcbar_kws\u001b[49m\u001b[43m,\u001b[49m\u001b[43m \u001b[49m\u001b[43mxticklabels\u001b[49m\u001b[43m,\u001b[49m\n\u001b[1;32m    448\u001b[0m \u001b[43m                      \u001b[49m\u001b[43myticklabels\u001b[49m\u001b[43m,\u001b[49m\u001b[43m \u001b[49m\u001b[43mmask\u001b[49m\u001b[43m)\u001b[49m\n\u001b[1;32m    450\u001b[0m \u001b[38;5;66;03m# Add the pcolormesh kwargs here\u001b[39;00m\n\u001b[1;32m    451\u001b[0m kwargs[\u001b[38;5;124m\"\u001b[39m\u001b[38;5;124mlinewidths\u001b[39m\u001b[38;5;124m\"\u001b[39m] \u001b[38;5;241m=\u001b[39m linewidths\n",
      "File \u001b[0;32m~/miniconda3/lib/python3.12/site-packages/seaborn/matrix.py:163\u001b[0m, in \u001b[0;36m_HeatMapper.__init__\u001b[0;34m(self, data, vmin, vmax, cmap, center, robust, annot, fmt, annot_kws, cbar, cbar_kws, xticklabels, yticklabels, mask)\u001b[0m\n\u001b[1;32m    160\u001b[0m \u001b[38;5;28mself\u001b[39m\u001b[38;5;241m.\u001b[39mylabel \u001b[38;5;241m=\u001b[39m ylabel \u001b[38;5;28;01mif\u001b[39;00m ylabel \u001b[38;5;129;01mis\u001b[39;00m \u001b[38;5;129;01mnot\u001b[39;00m \u001b[38;5;28;01mNone\u001b[39;00m \u001b[38;5;28;01melse\u001b[39;00m \u001b[38;5;124m\"\u001b[39m\u001b[38;5;124m\"\u001b[39m\n\u001b[1;32m    162\u001b[0m \u001b[38;5;66;03m# Determine good default values for the colormapping\u001b[39;00m\n\u001b[0;32m--> 163\u001b[0m \u001b[38;5;28;43mself\u001b[39;49m\u001b[38;5;241;43m.\u001b[39;49m\u001b[43m_determine_cmap_params\u001b[49m\u001b[43m(\u001b[49m\u001b[43mplot_data\u001b[49m\u001b[43m,\u001b[49m\u001b[43m \u001b[49m\u001b[43mvmin\u001b[49m\u001b[43m,\u001b[49m\u001b[43m \u001b[49m\u001b[43mvmax\u001b[49m\u001b[43m,\u001b[49m\n\u001b[1;32m    164\u001b[0m \u001b[43m                            \u001b[49m\u001b[43mcmap\u001b[49m\u001b[43m,\u001b[49m\u001b[43m \u001b[49m\u001b[43mcenter\u001b[49m\u001b[43m,\u001b[49m\u001b[43m \u001b[49m\u001b[43mrobust\u001b[49m\u001b[43m)\u001b[49m\n\u001b[1;32m    166\u001b[0m \u001b[38;5;66;03m# Sort out the annotations\u001b[39;00m\n\u001b[1;32m    167\u001b[0m \u001b[38;5;28;01mif\u001b[39;00m annot \u001b[38;5;129;01mis\u001b[39;00m \u001b[38;5;28;01mNone\u001b[39;00m \u001b[38;5;129;01mor\u001b[39;00m annot \u001b[38;5;129;01mis\u001b[39;00m \u001b[38;5;28;01mFalse\u001b[39;00m:\n",
      "File \u001b[0;32m~/miniconda3/lib/python3.12/site-packages/seaborn/matrix.py:197\u001b[0m, in \u001b[0;36m_HeatMapper._determine_cmap_params\u001b[0;34m(self, plot_data, vmin, vmax, cmap, center, robust)\u001b[0m\n\u001b[1;32m    194\u001b[0m \u001b[38;5;250m\u001b[39m\u001b[38;5;124;03m\"\"\"Use some heuristics to set good defaults for colorbar and range.\"\"\"\u001b[39;00m\n\u001b[1;32m    196\u001b[0m \u001b[38;5;66;03m# plot_data is a np.ma.array instance\u001b[39;00m\n\u001b[0;32m--> 197\u001b[0m calc_data \u001b[38;5;241m=\u001b[39m \u001b[43mplot_data\u001b[49m\u001b[38;5;241;43m.\u001b[39;49m\u001b[43mastype\u001b[49m\u001b[43m(\u001b[49m\u001b[38;5;28;43mfloat\u001b[39;49m\u001b[43m)\u001b[49m\u001b[38;5;241m.\u001b[39mfilled(np\u001b[38;5;241m.\u001b[39mnan)\n\u001b[1;32m    198\u001b[0m \u001b[38;5;28;01mif\u001b[39;00m vmin \u001b[38;5;129;01mis\u001b[39;00m \u001b[38;5;28;01mNone\u001b[39;00m:\n\u001b[1;32m    199\u001b[0m     \u001b[38;5;28;01mif\u001b[39;00m robust:\n",
      "\u001b[0;31mValueError\u001b[0m: could not convert string to float: 'Engineer'"
     ]
    }
   ],
   "source": [
    "# ! pip install seaborn\n",
    "import seaborn as sns\n",
    "import matplotlib.pyplot as plt\n",
    "\n",
    "heatmap = sns.heatmap(vstr)  # You can choose other colormaps like \"RdBu\" or \"coolwarm\"\n",
    "\n",
    "# Customize the heatmap (optional)\n",
    "heatmap.set_title(\"My Heatmap\")  # Add a title\n",
    "heatmap.set_xlabel(\"X-axis Label\")  # Set X-axis label\n",
    "heatmap.set_ylabel(\"Y-axis Label\")  # Set Y-axis label\n",
    "\n",
    "plt.show()"
   ]
  }
 ],
 "metadata": {
  "kernelspec": {
   "display_name": "Python 3 (ipykernel)",
   "language": "python",
   "name": "python3"
  },
  "language_info": {
   "codemirror_mode": {
    "name": "ipython",
    "version": 3
   },
   "file_extension": ".py",
   "mimetype": "text/x-python",
   "name": "python",
   "nbconvert_exporter": "python",
   "pygments_lexer": "ipython3",
   "version": "3.12.1"
  }
 },
 "nbformat": 4,
 "nbformat_minor": 5
}
